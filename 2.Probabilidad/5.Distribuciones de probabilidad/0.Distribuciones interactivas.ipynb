{
 "cells": [
  {
   "cell_type": "code",
   "execution_count": 4,
   "metadata": {},
   "outputs": [],
   "source": [
    "import numpy as np\n",
    "import matplotlib.pyplot as plt\n",
    "from scipy.stats import binom, geom, poisson\n",
    "from ipywidgets import interact, fixed"
   ]
  },
  {
   "cell_type": "code",
   "execution_count": 5,
   "metadata": {},
   "outputs": [],
   "source": [
    "def binomial_plot(n = 10, p = 0.5, li = 0.01, ls = 0.99):\n",
    "    x = np.arange(binom.ppf(li, n, p),binom.ppf(ls, n, p))\n",
    "    fig =plt.figure(figsize=(10, 5))\n",
    "    ax = fig.add_subplot(1,2,1)\n",
    "    ax.plot(x, binom.pmf(x, n, p), 'bo', ms=8, label='binom pmf')\n",
    "    ax.vlines(x, 0, binom.pmf(x, n, p), colors='b', lw=5, alpha=0.5)\n",
    "\n",
    "    ax = fig.add_subplot(1,2,2)\n",
    "    ax.plot(x, binom.cdf(x, n, p), 'bo', ms=8, label='binom pmf')\n",
    "    ax.vlines(x, 0, binom.cdf(x, n, p), colors='b', lw=5, alpha=0.5)\n",
    "\n",
    "    fig.suptitle('Distribucion Binomial')\n",
    "    plt.show()"
   ]
  },
  {
   "cell_type": "code",
   "execution_count": 6,
   "metadata": {},
   "outputs": [
    {
     "data": {
      "application/vnd.jupyter.widget-view+json": {
       "model_id": "5c3faaa8958440f79d27fad8a412275c",
       "version_major": 2,
       "version_minor": 0
      },
      "text/plain": [
       "interactive(children=(IntSlider(value=10, description='n', min=1), FloatSlider(value=0.5, description='p', max…"
      ]
     },
     "metadata": {},
     "output_type": "display_data"
    },
    {
     "data": {
      "text/plain": [
       "<function __main__.binomial_plot(n=10, p=0.5, li=0.01, ls=0.99)>"
      ]
     },
     "execution_count": 6,
     "metadata": {},
     "output_type": "execute_result"
    }
   ],
   "source": [
    "# Con fixed indicamos que el valor será fijo\n",
    "# n=(1, 100, 1): n tomará valores de 1 a 100 con saltos de 1\n",
    "# p=(0, 1, 0.01): p tomará valores de 0 a 1 con saltos de 0.01\n",
    "interact(binomial_plot, n=(1, 100, 1), p=(0, 1, 0.01), li=fixed(0.01), ls=fixed(0.99))"
   ]
  },
  {
   "cell_type": "code",
   "execution_count": 9,
   "metadata": {},
   "outputs": [],
   "source": [
    "def geom_plot(p=0.25):\n",
    "    x = np.arange(geom.ppf(0.01, p),geom.ppf(0.99, p))\n",
    "\n",
    "    fig =plt.figure(figsize=(10, 5))\n",
    "    ax = fig.add_subplot(1,2,1)\n",
    "    _=ax.plot(x, geom.pmf(x, p), 'bo', ms=5, label='geom pmf')\n",
    "    _=ax.vlines(x, 0, geom.pmf(x, p), colors='b', lw=2, alpha=0.5)\n",
    "\n",
    "    ax = fig.add_subplot(1,2,2)\n",
    "    _=ax.plot(x, geom.cdf(x,p), 'bo', ms=5, label='geom cdf')\n",
    "    _=ax.vlines(x, 0, geom.cdf(x, p), colors='b', lw=2, alpha=0.5)\n",
    "\n",
    "    _=fig.suptitle('Distribucion Geometrica')\n",
    "    _=plt.show()"
   ]
  },
  {
   "cell_type": "code",
   "execution_count": 10,
   "metadata": {},
   "outputs": [
    {
     "data": {
      "application/vnd.jupyter.widget-view+json": {
       "model_id": "b380ce78dfbc4793af0c615f1f52a474",
       "version_major": 2,
       "version_minor": 0
      },
      "text/plain": [
       "interactive(children=(FloatSlider(value=0.25, description='p', max=1.0, min=0.01, step=0.01), Output()), _dom_…"
      ]
     },
     "metadata": {},
     "output_type": "display_data"
    },
    {
     "data": {
      "text/plain": [
       "<function __main__.geom_plot(p=0.25)>"
      ]
     },
     "execution_count": 10,
     "metadata": {},
     "output_type": "execute_result"
    }
   ],
   "source": [
    "# p=(0.01, 1, 0.01): p tomará valores de 0 a 1 con saltos de 0.01\n",
    "interact(geom_plot, p=(0.01, 1, 0.01))"
   ]
  },
  {
   "cell_type": "code",
   "execution_count": 11,
   "metadata": {},
   "outputs": [],
   "source": [
    "def poisson_plot(mu=10):\n",
    "    x = np.arange(poisson.ppf(0.01, mu),poisson.ppf(0.99, mu))\n",
    "    fig =plt.figure(figsize=(15, 5))\n",
    "    ax = fig.add_subplot(1,2,1)\n",
    "    ax.plot(x, poisson.pmf(x, mu), 'bo', ms=5, label='poisson pmf')\n",
    "    ax.vlines(x, 0, poisson.pmf(x, mu), colors='b', lw=2, alpha=0.5)\n",
    "    for tick in ax.xaxis.get_major_ticks():\n",
    "        tick.label.set_fontsize(15)\n",
    "    for tick in ax.yaxis.get_major_ticks():\n",
    "        tick.label.set_fontsize(15) \n",
    "    ax = fig.add_subplot(1,2,2)\n",
    "    ax.plot(x, poisson.cdf(x, mu), 'bo', ms=5, label='poisson cdf')\n",
    "    ax.vlines(x, 0, poisson.cdf(x, mu), colors='b', lw=2, alpha=0.5)\n",
    "    for tick in ax.xaxis.get_major_ticks():\n",
    "        tick.label.set_fontsize(15)\n",
    "    for tick in ax.yaxis.get_major_ticks():\n",
    "        tick.label.set_fontsize(15)\n",
    "    fig.suptitle('Distribucion de Poisson')\n",
    "    plt.show()"
   ]
  },
  {
   "cell_type": "code",
   "execution_count": 13,
   "metadata": {},
   "outputs": [
    {
     "data": {
      "application/vnd.jupyter.widget-view+json": {
       "model_id": "5d129023d6de49a5a48be7ea241e04b3",
       "version_major": 2,
       "version_minor": 0
      },
      "text/plain": [
       "interactive(children=(FloatSlider(value=10.0, description='mu', max=50.0, min=0.01, step=0.01), Output()), _do…"
      ]
     },
     "metadata": {},
     "output_type": "display_data"
    },
    {
     "data": {
      "text/plain": [
       "<function __main__.poisson_plot(mu=10)>"
      ]
     },
     "execution_count": 13,
     "metadata": {},
     "output_type": "execute_result"
    }
   ],
   "source": [
    "interact(poisson_plot, mu=(0.01, 50, 0.01))"
   ]
  },
  {
   "cell_type": "code",
   "execution_count": null,
   "metadata": {},
   "outputs": [],
   "source": []
  }
 ],
 "metadata": {
  "kernelspec": {
   "display_name": "Python 3",
   "language": "python",
   "name": "python3"
  },
  "language_info": {
   "codemirror_mode": {
    "name": "ipython",
    "version": 3
   },
   "file_extension": ".py",
   "mimetype": "text/x-python",
   "name": "python",
   "nbconvert_exporter": "python",
   "pygments_lexer": "ipython3",
   "version": "3.7.4"
  }
 },
 "nbformat": 4,
 "nbformat_minor": 2
}
