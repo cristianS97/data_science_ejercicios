{
 "cells": [
  {
   "cell_type": "code",
   "execution_count": 31,
   "metadata": {},
   "outputs": [],
   "source": [
    "import numpy as np\n",
    "import matplotlib.pyplot as plt\n",
    "from scipy.stats import binom, geom"
   ]
  },
  {
   "cell_type": "code",
   "execution_count": 35,
   "metadata": {},
   "outputs": [],
   "source": [
    "def binomial_plot(n = 10, p = 0.5, li = 0.01, ls = 0.99):\n",
    "    x = np.arange(binom.ppf(li, n, p),binom.ppf(ls, n, p))\n",
    "    fig =plt.figure(figsize=(10, 5))\n",
    "    ax = fig.add_subplot(1,2,1)\n",
    "    ax.plot(x, binom.pmf(x, n, p), 'bo', ms=8, label='binom pmf')\n",
    "    ax.vlines(x, 0, binom.pmf(x, n, p), colors='b', lw=5, alpha=0.5)\n",
    "\n",
    "    ax = fig.add_subplot(1,2,2)\n",
    "    ax.plot(x, binom.cdf(x, n, p), 'bo', ms=8, label='binom pmf')\n",
    "    ax.vlines(x, 0, binom.cdf(x, n, p), colors='b', lw=5, alpha=0.5)\n",
    "\n",
    "    fig.suptitle('Distribucion Binomial')\n",
    "    plt.show()"
   ]
  },
  {
   "cell_type": "code",
   "execution_count": 39,
   "metadata": {},
   "outputs": [
    {
     "data": {
      "application/vnd.jupyter.widget-view+json": {
       "model_id": "5f8e9112574548ca893411e6f62270fe",
       "version_major": 2,
       "version_minor": 0
      },
      "text/plain": [
       "interactive(children=(IntSlider(value=10, description='n', min=1), FloatSlider(value=0.5, description='p', max…"
      ]
     },
     "metadata": {},
     "output_type": "display_data"
    },
    {
     "data": {
      "text/plain": [
       "<function __main__.binomial_plot(n=10, p=0.5, li=0.01, ls=0.99)>"
      ]
     },
     "execution_count": 39,
     "metadata": {},
     "output_type": "execute_result"
    }
   ],
   "source": [
    "interact(binomial_plot, n=(1, 100, 1), p=(0, 1, 0.01), li=fixed(0.01), ls=fixed(0.99))"
   ]
  },
  {
   "cell_type": "code",
   "execution_count": 44,
   "metadata": {},
   "outputs": [],
   "source": [
    "def geom_plot(p=0.25):\n",
    "    x = np.arange(geom.ppf(0.01, p),geom.ppf(0.99, p))\n",
    "\n",
    "    fig =plt.figure(figsize=(10, 10))\n",
    "    ax = fig.add_subplot(1,2,1)\n",
    "    _=ax.plot(x, geom.pmf(x, p), 'bo', ms=5, label='geom pmf')\n",
    "    _=ax.vlines(x, 0, geom.pmf(x, p), colors='b', lw=2, alpha=0.5)\n",
    "\n",
    "    ax = fig.add_subplot(1,2,2)\n",
    "    _=ax.plot(x, geom.cdf(x,p), 'bo', ms=5, label='geom cdf')\n",
    "    _=ax.vlines(x, 0, geom.cdf(x, p), colors='b', lw=2, alpha=0.5)\n",
    "\n",
    "    _=fig.suptitle('Distribucion Geometrica')\n",
    "    _=plt.show()"
   ]
  },
  {
   "cell_type": "code",
   "execution_count": 48,
   "metadata": {},
   "outputs": [
    {
     "data": {
      "application/vnd.jupyter.widget-view+json": {
       "model_id": "14d5292a87804ac995698f563cc05582",
       "version_major": 2,
       "version_minor": 0
      },
      "text/plain": [
       "interactive(children=(FloatSlider(value=0.25, description='p', max=1.0, min=0.01, step=0.01), Output()), _dom_…"
      ]
     },
     "metadata": {},
     "output_type": "display_data"
    },
    {
     "data": {
      "text/plain": [
       "<function __main__.geom_plot(p=0.25)>"
      ]
     },
     "execution_count": 48,
     "metadata": {},
     "output_type": "execute_result"
    }
   ],
   "source": [
    "interact(geom_plot, p=(0.01, 1, 0.01))"
   ]
  },
  {
   "cell_type": "code",
   "execution_count": null,
   "metadata": {},
   "outputs": [],
   "source": []
  }
 ],
 "metadata": {
  "kernelspec": {
   "display_name": "Python 3",
   "language": "python",
   "name": "python3"
  },
  "language_info": {
   "codemirror_mode": {
    "name": "ipython",
    "version": 3
   },
   "file_extension": ".py",
   "mimetype": "text/x-python",
   "name": "python",
   "nbconvert_exporter": "python",
   "pygments_lexer": "ipython3",
   "version": "3.7.4"
  }
 },
 "nbformat": 4,
 "nbformat_minor": 2
}
